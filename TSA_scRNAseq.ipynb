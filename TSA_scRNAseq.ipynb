{
 "cells": [
  {
   "cell_type": "code",
   "execution_count": null,
   "id": "1507ba33",
   "metadata": {},
   "outputs": [],
   "source": [
    "import scanpy as sc\n",
    "import anndata as an\n",
    "import os\n",
    "import glob"
   ]
  },
  {
   "cell_type": "markdown",
   "id": "076f2dda",
   "metadata": {},
   "source": [
    "# Data load"
   ]
  },
  {
   "cell_type": "code",
   "execution_count": null,
   "id": "21c567da",
   "metadata": {},
   "outputs": [],
   "source": [
    "## Load CellRanger output files into AnnData objects\n",
    "base_path = r\"G:\\My Drive\\projects\\cflows\\cellranger_out\\cellranger_out\"\n",
    "\n",
    "# Create dictionary to hold all AnnData objects\n",
    "adata_dict = {}\n",
    "\n",
    "# Load h5 files from the the root\n",
    "for root, dirs, files in os.walk(base_path):\n",
    "    for file in files:\n",
    "        if file.endswith(\".h5\"):\n",
    "            full_path = os.path.join(root, file)\n",
    "            sample_name = os.path.basename(root)  # Use folder name as sample ID\n",
    "            print(f\"Loading: {sample_name} from {full_path}\")\n",
    "            try:\n",
    "                adata = sc.read_10x_h5(full_path)\n",
    "                adata.var_names_make_unique()\n",
    "                adata_dict[sample_name] = adata\n",
    "            except Exception as e:\n",
    "                print(f\"Failed to load {sample_name}: {e}\") "
   ]
  },
  {
   "cell_type": "code",
   "execution_count": null,
   "id": "526c95c5",
   "metadata": {},
   "outputs": [],
   "source": [
    "# Dimensions of each sample\n",
    "for sample, adata in adata_dict.items():\n",
    "    print(f\"{sample}: {adata.shape}\")"
   ]
  },
  {
   "cell_type": "markdown",
   "id": "6a635d68",
   "metadata": {},
   "source": [
    "# QC and filtering"
   ]
  },
  {
   "cell_type": "code",
   "execution_count": null,
   "id": "eca0a8e9",
   "metadata": {},
   "outputs": [],
   "source": [
    "# Perform QC, filtering, and visualization per sample\n",
    "\n",
    "# Relevant metrics\n",
    "for sample_name, adata in adata_dict.items():\n",
    "    print(f\"\\nProcessing sample: {sample_name}\")\n",
    "    print(f\"Original shape: {adata.shape}\")\n",
    "\n",
    "    # Annotate mitochondrial genes\n",
    "    adata.var['mt'] = adata.var_names.str.startswith('MT-')\n",
    "    sc.pp.calculate_qc_metrics(adata, qc_vars=['mt'], inplace=True)\n",
    "\n",
    "    #Make a copy of the unfiltered data for visualization\n",
    "    adata_raw = adata.copy()\n",
    "\n",
    "    # Violin plot of unfiltered data\n",
    "    sc.pl.violin(adata_raw, \n",
    "                 ['total_counts', 'n_genes_by_counts', 'pct_counts_mt'],\n",
    "                 jitter = 0.4, \n",
    "                 multi_panel=True)\n",
    "\n",
    "    # Filter genes only exprssed in less than 3 cells\n",
    "    sc.pp.filter_genes(adata, min_cells=3)\n",
    "\n",
    "    # Filter cells based on gene count and mitochondrial content\n",
    "    # cells containing more than 200 unique genes\n",
    "    # cells containing less than 5% of mitochondrial genes\n",
    "    adata = adata[adata.obs.n_genes_by_counts > 200, :]\n",
    "    adata = adata[adata.obs.pct_counts_mt < 10, :]\n",
    "\n",
    "    adata_dict[sample_name] = adata\n",
    "    print(f\"Filtered shape: {adata.shape}\")\n",
    "\n",
    "    #QC metrics after filtering\n",
    "    sc.pl.violin(adata, \n",
    "                 ['total_counts', 'n_genes_by_counts', 'pct_counts_mt'],\n",
    "                 jitter =0.4, \n",
    "                 multi_panel=True)\n",
    "\n",
    "    sc.pl.scatter(adata, x='total_counts', y ='pct_counts_mt')\n",
    "    sc.pl.scatter(adata, x='total_counts', y='n_genes_by_counts', color='pct_counts_mt')\n",
    "\n",
    "print(\"Done! All samples processed\")"
   ]
  },
  {
   "cell_type": "code",
   "execution_count": null,
   "id": "751e7356",
   "metadata": {},
   "outputs": [],
   "source": [
    "# Doublets identification\n",
    "# Scrublet gives each cell a doublet score, by simulating doublets combining different cells expressions\n",
    "\n",
    "for sample_name, adata in adata_dict.items():\n",
    "    print(f\"Running Scrublet on {sample_name}...\")\n",
    "    sc.pp.scrublet(adata) \n",
    "    print(adata.obs[['doublet_score', 'predicted_doublet']].head())\n"
   ]
  },
  {
   "cell_type": "markdown",
   "id": "81beb92f",
   "metadata": {},
   "source": [
    "# Normalization\n",
    "Count depth scaling and log1p transformation"
   ]
  },
  {
   "cell_type": "code",
   "execution_count": null,
   "id": "8f7e14ee",
   "metadata": {},
   "outputs": [],
   "source": [
    "#Normalizing to median total counts\n",
    "for sample_name, adata in adata_dict.items():\n",
    "    print(f\"Normalizing {sample_name}...\")\n",
    "    sc.pp.normalize_total(adata)\n",
    "    sc.pp.log1p(adata)\n",
    "    print(\"All data has been normalized\")"
   ]
  },
  {
   "cell_type": "markdown",
   "id": "b542d95a",
   "metadata": {},
   "source": [
    "# Dimensionality reduction"
   ]
  },
  {
   "cell_type": "code",
   "execution_count": null,
   "id": "4ba14588",
   "metadata": {},
   "outputs": [],
   "source": [
    "#Find first features with the highest variability, stored in .var\n",
    "\n",
    "for sample_name, adata in adata_dict.items():\n",
    "    print(f\"Searching high variable genes for {sample_name}..\")\n",
    "    sc.pp.highly_variable_genes(adata, n_top_genes = 2000)\n",
    "    sc.pl.highly_variable_genes(adata)\n",
    "\n"
   ]
  },
  {
   "cell_type": "code",
   "execution_count": null,
   "id": "8fdea045",
   "metadata": {},
   "outputs": [],
   "source": [
    "# PCA analysis and elbow plot\n",
    "# PCA coordinates and their variance contribution stored .uns\n",
    "for sample_name, adata in adata_dict.items():\n",
    "    print(f\"Performing PCA for {sample_name}.. \")\n",
    "    sc.tl.pca(adata)\n",
    "    sc.pl.pca_variance_ratio(adata, n_pcs = 50, log =True)\n",
    "    sc.pl.pca(\n",
    "    adata,\n",
    "    color=\"pct_counts_mt\",\n",
    ")\n"
   ]
  },
  {
   "cell_type": "code",
   "execution_count": null,
   "id": "e8c07959",
   "metadata": {},
   "outputs": [],
   "source": [
    "\n",
    "# Nearest neighbours, UMAP and visualization\n",
    "for sample_name, adata in adata_dict.items():\n",
    "    print(f\"UMAP for {sample_name}:\")\n",
    "    sc.pp.neighbors(adata, n_pcs=10) # adjust PCs \n",
    "    sc.tl.umap(adata)\n",
    "    sc.pl.umap(adata,\n",
    "    color = \"pct_counts_mt\",\n",
    "    size = 10,\n",
    ")\n"
   ]
  },
  {
   "cell_type": "code",
   "execution_count": null,
   "id": "fa9def5c",
   "metadata": {},
   "outputs": [],
   "source": [
    "# The numnber of iterations will affect Leiden cluster queality and modularity\n",
    "# you can adjust the resolution parameter inside leiden function\n",
    "for sample_name, adata in adata_dict.items():\n",
    "    print(f\"Running Leiden on {sample_name}...\")\n",
    "    sc.tl.leiden(adata, flavor=\"igraph\", n_iterations=2)\n",
    "    sc.pl.umap(adata, color=[\"leiden\"], title=f\"{sample_name} - Leiden\")\n"
   ]
  },
  {
   "cell_type": "markdown",
   "id": "87b36309",
   "metadata": {},
   "source": [
    "# PHATE visualization"
   ]
  },
  {
   "cell_type": "code",
   "execution_count": null,
   "id": "84ec1ed6",
   "metadata": {},
   "outputs": [],
   "source": [
    "# For trajectory analysis with PHATE we will concatenate again the samples\n",
    "from anndata import AnnData\n",
    "adata_combined = an.concat(\n",
    "    adata_dict,\n",
    "    label = \"sample\",           \n",
    "    index_unique = None         \n",
    ")\n",
    "\n",
    "adata_combined.obs"
   ]
  },
  {
   "cell_type": "code",
   "execution_count": null,
   "id": "b4f92e17",
   "metadata": {},
   "outputs": [],
   "source": [
    "import phate\n",
    "import scprep # phate needs scprep\n",
    "\n",
    "phate_op = phate.PHATE(n_components=10)\n",
    "phate_embedding = phate_op.fit_transform(data_for_phate)\n",
    "\n",
    "#Store PHATE results in adata\n",
    "adata.obsm[\"X_phate\"] = phate_embedding\n",
    "sc.pl.embedding(adata, basis=\"phate\", color=[\"sample\", \"timepoint\", \"leiden\"])\n"
   ]
  }
 ],
 "metadata": {
  "kernelspec": {
   "display_name": "base",
   "language": "python",
   "name": "python3"
  },
  "language_info": {
   "codemirror_mode": {
    "name": "ipython",
    "version": 3
   },
   "file_extension": ".py",
   "mimetype": "text/x-python",
   "name": "python",
   "nbconvert_exporter": "python",
   "pygments_lexer": "ipython3",
   "version": "3.9.18"
  }
 },
 "nbformat": 4,
 "nbformat_minor": 5
}
